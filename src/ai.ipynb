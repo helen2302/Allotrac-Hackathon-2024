{
 "cells": [
  {
   "cell_type": "code",
   "execution_count": 207,
   "metadata": {},
   "outputs": [
    {
     "data": {
      "text/plain": [
       "True"
      ]
     },
     "execution_count": 207,
     "metadata": {},
     "output_type": "execute_result"
    }
   ],
   "source": [
    "import os \n",
    "from dotenv import load_dotenv\n",
    "\n",
    "load_dotenv()"
   ]
  },
  {
   "cell_type": "code",
   "execution_count": 208,
   "metadata": {},
   "outputs": [],
   "source": [
    "import pandas as pd \n",
    "import pandas as pd\n",
    "import sqlite3\n",
    "\n",
    "conn = sqlite3.connect('database-1.db')\n"
   ]
  },
  {
   "cell_type": "code",
   "execution_count": 209,
   "metadata": {},
   "outputs": [],
   "source": [
    "import sqlite3\n",
    "import os\n",
    "import pandas as pd\n",
    "\n",
    "conn = sqlite3.connect('allotrac.db')\n",
    "cur = conn.cursor()\n",
    "\n",
    "base_path = \"hackathon2024/csv-dataset\"\n",
    "\n",
    "for csvpath in os.listdir(base_path):\n",
    "  if csvpath.endswith('.csv'):\n",
    "    # now upload data to sqllite\n",
    "    table_name = csvpath.split('.')[0]\n",
    "\n",
    "    df = pd.read_csv(f'{base_path}/{csvpath}')\n",
    "    df.to_sql(table_name, conn, if_exists='replace', index=False)"
   ]
  },
  {
   "cell_type": "code",
   "execution_count": 210,
   "metadata": {},
   "outputs": [],
   "source": [
    "from langchain_openai import AzureChatOpenAI\n",
    "\n",
    "llm = AzureChatOpenAI(\n",
    "  azure_deployment=\"gpt-4\",\n",
    "  model_name=\"gpt-4\",\n",
    "  azure_endpoint=os.environ.get(\"API_ENDPOINT\"),\n",
    "  openai_api_version=os.environ.get(\"API_VERSION\"),\n",
    "  openai_api_key=os.environ.get(\"API_KEY\"),\n",
    "  temperature=0\n",
    ")"
   ]
  },
  {
   "cell_type": "code",
   "execution_count": 222,
   "metadata": {},
   "outputs": [],
   "source": [
    "from langchain.utilities import SQLDatabase\n",
    "from langchain_experimental.sql import SQLDatabaseChain\n",
    "\n",
    "connection_uri = f\"sqlite:///allotrac.db\"\n",
    "\n",
    "db = SQLDatabase.from_uri(connection_uri, include_tables=list(table_source_map.keys()), sample_rows_in_table_info=4)\n",
    "\n",
    "db_chain = SQLDatabaseChain.from_llm(llm, db)\n",
    "\n",
    "db_chain.return_sql = True\n",
    "db_chain.return_direct = True\n"
   ]
  },
  {
   "cell_type": "code",
   "execution_count": 223,
   "metadata": {},
   "outputs": [],
   "source": [
    "from langchain.prompts import PromptTemplate\n",
    "\n",
    "query_gen_tpl = \"\"\"You are an expert sql query generator who understands the question in english and convert to sql query strictly based on the context. \n",
    "Human: {question}\n",
    "Assistant: \n",
    "\"\"\""
   ]
  },
  {
   "cell_type": "code",
   "execution_count": 224,
   "metadata": {},
   "outputs": [],
   "source": [
    "def chat(query):\n",
    "    r = db_chain.run(query_gen_tpl.replace(\"{question}\", query))\n",
    "    return r"
   ]
  },
  {
   "cell_type": "code",
   "execution_count": 234,
   "metadata": {},
   "outputs": [],
   "source": [
    "question = \"Which truck has the highest capacity? Give me its details\"\n",
    "r2 = chat(question)"
   ]
  },
  {
   "cell_type": "code",
   "execution_count": 235,
   "metadata": {},
   "outputs": [
    {
     "name": "stdout",
     "output_type": "stream",
     "text": [
      "SELECT \"ID\", \"Make\", \"Capacity\", \"VehicleRegistration\" FROM truck ORDER BY \"Capacity\" DESC LIMIT 1\n"
     ]
    }
   ],
   "source": [
    "print(r2)"
   ]
  },
  {
   "cell_type": "code",
   "execution_count": 236,
   "metadata": {},
   "outputs": [],
   "source": [
    "query_result = db.run(r2)"
   ]
  },
  {
   "cell_type": "code",
   "execution_count": 237,
   "metadata": {},
   "outputs": [],
   "source": [
    "from langchain.chains import LLMChain\n",
    "\n",
    "chain_template = \"\"\"\n",
    "{history}\n",
    "\n",
    "based on above history, I have below questions.\n",
    "\n",
    "Question: {question}\n",
    "\n",
    "Answer: Explain these result data in human readable format and generate human readable summary. Don't mention the datasource. \n",
    "\"\"\"\n",
    "\n",
    "chain_prompt = PromptTemplate.from_template(chain_template)"
   ]
  },
  {
   "cell_type": "code",
   "execution_count": 238,
   "metadata": {},
   "outputs": [
    {
     "name": "stdout",
     "output_type": "stream",
     "text": [
      "The truck with the highest capacity is a Mitsubishi with a capacity of 2900.0. Its vehicle registration number is 4-Y9715 and it has an ID of 79.\n"
     ]
    }
   ],
   "source": [
    "llm_chain = LLMChain(prompt=chain_prompt, llm=llm)\n",
    "\n",
    "result = llm_chain.run(\n",
    "    {\n",
    "        \"history\": f\"{question} RESULT QUERY IS : \\n {r2} \\n RETURN FROM DB: \\n {query_result}\",\n",
    "        \"question\": \"{question}\"\n",
    "    }\n",
    ")\n",
    "\n",
    "print(result)"
   ]
  },
  {
   "cell_type": "code",
   "execution_count": null,
   "metadata": {},
   "outputs": [],
   "source": []
  }
 ],
 "metadata": {
  "kernelspec": {
   "display_name": "src-v7ZO3-q_",
   "language": "python",
   "name": "python3"
  },
  "language_info": {
   "codemirror_mode": {
    "name": "ipython",
    "version": 3
   },
   "file_extension": ".py",
   "mimetype": "text/x-python",
   "name": "python",
   "nbconvert_exporter": "python",
   "pygments_lexer": "ipython3",
   "version": "3.11.8"
  }
 },
 "nbformat": 4,
 "nbformat_minor": 2
}
